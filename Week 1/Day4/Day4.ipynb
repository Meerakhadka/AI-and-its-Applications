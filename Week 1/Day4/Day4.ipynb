{
  "nbformat": 4,
  "nbformat_minor": 0,
  "metadata": {
    "colab": {
      "provenance": []
    },
    "kernelspec": {
      "name": "python3",
      "display_name": "Python 3"
    },
    "language_info": {
      "name": "python"
    }
  },
  "cells": [
    {
      "cell_type": "markdown",
      "source": [
        "#File handling and exception"
      ],
      "metadata": {
        "id": "ylwFYtZaA4oJ"
      }
    },
    {
      "cell_type": "code",
      "execution_count": null,
      "metadata": {
        "colab": {
          "base_uri": "https://localhost:8080/"
        },
        "id": "xjHPUsqnAkSv",
        "outputId": "e584c657-205d-4118-dc0f-395730ba17ee"
      },
      "outputs": [
        {
          "output_type": "stream",
          "name": "stdout",
          "text": [
            "enter number:3.5\n",
            "invalid input:\n"
          ]
        }
      ],
      "source": [
        "#Using try-except for file handling\n",
        "try:\n",
        "  x= int(input(\"enter number:\"))\n",
        "  print(10/2.1)\n",
        "except ZeroDivisionError:\n",
        "    print(\"cannot division by zero\")\n",
        "except ValueError:\n",
        "    print(\"invalid input:\")"
      ]
    },
    {
      "cell_type": "code",
      "source": [
        "#Opening and reading a file\n",
        "\n",
        "f = open(\"test.txt\",\"r\")\n",
        "print(f.read())\n",
        "f.close()"
      ],
      "metadata": {
        "colab": {
          "base_uri": "https://localhost:8080/"
        },
        "id": "b7cZxx-xA9i-",
        "outputId": "617c0b57-6a59-4b4e-c9c3-5b78ed953f2a"
      },
      "execution_count": null,
      "outputs": [
        {
          "output_type": "stream",
          "name": "stdout",
          "text": [
            "I am studing.\n",
            "I am learning.\n",
            "I was learning.\n"
          ]
        }
      ]
    },
    {
      "cell_type": "code",
      "source": [
        "f = open(\"test.txt\",\"r\")\n",
        "print(f.readline())\n",
        "f.close()"
      ],
      "metadata": {
        "colab": {
          "base_uri": "https://localhost:8080/"
        },
        "id": "mSt3PNBBCK00",
        "outputId": "095af410-43fd-4b2b-f099-e453d75a0e3e"
      },
      "execution_count": null,
      "outputs": [
        {
          "output_type": "stream",
          "name": "stdout",
          "text": [
            "I am studing.\n",
            "\n"
          ]
        }
      ]
    },
    {
      "cell_type": "code",
      "source": [
        "f = open(\"test.txt\",\"r\")\n",
        "print(f.readlines())\n",
        "f.close()"
      ],
      "metadata": {
        "colab": {
          "base_uri": "https://localhost:8080/"
        },
        "id": "infmajBYCNpb",
        "outputId": "3efcbeb5-75a2-4e09-b74b-c50c42a16b99"
      },
      "execution_count": null,
      "outputs": [
        {
          "output_type": "stream",
          "name": "stdout",
          "text": [
            "['I am studing.\\n', 'I am learning.\\n', 'I was learning.']\n"
          ]
        }
      ]
    },
    {
      "cell_type": "code",
      "source": [
        "f = open(\"test.txt\",\"r\")\n",
        "print(f.read(15))\n",
        "f.close()"
      ],
      "metadata": {
        "colab": {
          "base_uri": "https://localhost:8080/"
        },
        "id": "WlcesPjrCo7X",
        "outputId": "1962cd33-cc7c-4255-83a7-c7620a6d2c9f"
      },
      "execution_count": null,
      "outputs": [
        {
          "output_type": "stream",
          "name": "stdout",
          "text": [
            "I am studing.\n",
            "I\n"
          ]
        }
      ]
    },
    {
      "cell_type": "markdown",
      "source": [
        "#with operation"
      ],
      "metadata": {
        "id": "TqORoH51C8Px"
      }
    },
    {
      "cell_type": "code",
      "source": [
        "with open(\"test.txt\",\"r\") as f:\n",
        "  print(f.read())"
      ],
      "metadata": {
        "colab": {
          "base_uri": "https://localhost:8080/"
        },
        "id": "AKIMWACCC-Gk",
        "outputId": "63a9f50e-a547-4611-919d-a96dcdb65a12"
      },
      "execution_count": null,
      "outputs": [
        {
          "output_type": "stream",
          "name": "stdout",
          "text": [
            "I am studing.\n",
            "I am learning.\n",
            "I was learning.\n"
          ]
        }
      ]
    },
    {
      "cell_type": "markdown",
      "source": [
        "#writing to a file"
      ],
      "metadata": {
        "id": "IEm0UHYSDunl"
      }
    },
    {
      "cell_type": "code",
      "source": [
        "f = open(\"test.txt\",\"w\")\n",
        "f.write(\"i am writing to this file\")\n",
        "f.close()"
      ],
      "metadata": {
        "id": "qgXVqUJ_DwMB"
      },
      "execution_count": null,
      "outputs": []
    },
    {
      "cell_type": "code",
      "source": [
        "with open(\"test.txt\",\"w\") as f:\n",
        "  f.write(\"i am using.\")"
      ],
      "metadata": {
        "id": "fsMpzaDUEGoS"
      },
      "execution_count": null,
      "outputs": []
    },
    {
      "cell_type": "code",
      "source": [
        "with open(\"Example.txt\",\"w\") as f:\n",
        "  f.write(\"i am using.\")"
      ],
      "metadata": {
        "id": "42jo-yrqE1w3"
      },
      "execution_count": null,
      "outputs": []
    },
    {
      "cell_type": "code",
      "source": [
        "# Appending to this file\n",
        "f = open(\"test.txt\",\"a\")\n",
        "f.write(\"\\ni am appending this file\")\n",
        "f.close()"
      ],
      "metadata": {
        "id": "vM8F2i3KFMNw"
      },
      "execution_count": null,
      "outputs": []
    },
    {
      "cell_type": "markdown",
      "source": [
        "#Deleting a file/folder"
      ],
      "metadata": {
        "id": "BftWN3DBQ0LP"
      }
    },
    {
      "cell_type": "code",
      "source": [
        "import os\n",
        "os.remove(\"test.txt\")"
      ],
      "metadata": {
        "id": "Q1NfnILXQ6--"
      },
      "execution_count": null,
      "outputs": []
    },
    {
      "cell_type": "code",
      "source": [
        "os.rmdir(\"delete_me\")"
      ],
      "metadata": {
        "id": "p9wm2_zdRqOn"
      },
      "execution_count": null,
      "outputs": []
    },
    {
      "cell_type": "markdown",
      "source": [
        "#try-except handling"
      ],
      "metadata": {
        "id": "ZuQfmaD9SJSd"
      }
    },
    {
      "cell_type": "code",
      "source": [
        "# b=5\n",
        "try:\n",
        "  print(c)\n",
        "except NameError:\n",
        "    print(\"name error exception occured\")"
      ],
      "metadata": {
        "colab": {
          "base_uri": "https://localhost:8080/"
        },
        "id": "Wkdhhw_MSM29",
        "outputId": "4a6eca56-5fba-4b70-d498-c50f2d2d801d"
      },
      "execution_count": null,
      "outputs": [
        {
          "output_type": "stream",
          "name": "stdout",
          "text": [
            "name error exception occured\n"
          ]
        }
      ]
    },
    {
      "cell_type": "markdown",
      "source": [
        "#Reading to a file"
      ],
      "metadata": {
        "id": "zZtapaNrF1te"
      }
    },
    {
      "cell_type": "code",
      "source": [
        "try:\n",
        "    with open(\"mira.txt\", \"r\") as file:\n",
        "        for line in file:\n",
        "            print(line.strip())\n",
        "except FileNotFoundError:\n",
        "    print(\"The file data.txt was not found.\")\n"
      ],
      "metadata": {
        "colab": {
          "base_uri": "https://localhost:8080/"
        },
        "id": "sAi0R6ZTF7hq",
        "outputId": "8d2f14e3-e77d-4b67-ad02-d7078589201b"
      },
      "execution_count": null,
      "outputs": [
        {
          "output_type": "stream",
          "name": "stdout",
          "text": [
            "The file data.txt was not found.\n"
          ]
        }
      ]
    },
    {
      "cell_type": "markdown",
      "source": [
        "#writing to a file"
      ],
      "metadata": {
        "id": "9hZ53QL0ITtl"
      }
    },
    {
      "cell_type": "code",
      "source": [
        "f = open(\"user.txt\", \"w\")\n",
        "name = input(\"Enter your name:\")\n",
        "f.write(name)\n",
        "f.close()\n",
        "# try:\n",
        "#     name = input(\"Enter your name: \")\n",
        "#     with open(\"user.txt\", \"w\") as file:\n",
        "#         file.write(name)\n",
        "# except Exception as e:\n",
        "#     print(f\"An error occurred while writing to the file: {e}\")\n"
      ],
      "metadata": {
        "colab": {
          "base_uri": "https://localhost:8080/"
        },
        "id": "-z0S4mV0IW8o",
        "outputId": "ca774665-7767-4492-92f1-eee32ded1dfb"
      },
      "execution_count": null,
      "outputs": [
        {
          "name": "stdout",
          "output_type": "stream",
          "text": [
            "Enter your name:mira\n"
          ]
        }
      ]
    },
    {
      "cell_type": "markdown",
      "source": [
        "#counting words in file"
      ],
      "metadata": {
        "id": "XjA1ZAoxHM73"
      }
    },
    {
      "cell_type": "code",
      "source": [
        "# f = open(\"story.txt\",\"r\")\n",
        "# print(f.read(15))\n",
        "# f.close()\n",
        "\n",
        "try:\n",
        " with open(\"story.txt\",\"r\") as file:\n",
        "  a = file.read()\n",
        "  word = a.split()\n",
        "  print(f\"total words:{len(word)}:\")\n",
        "except FileNotFoundError:\n",
        "  print(\" the story.txt file was not found\")\n"
      ],
      "metadata": {
        "colab": {
          "base_uri": "https://localhost:8080/"
        },
        "id": "5L898_GXHP5W",
        "outputId": "b723b284-71c5-4840-c500-e391e583cec0"
      },
      "execution_count": null,
      "outputs": [
        {
          "output_type": "stream",
          "name": "stdout",
          "text": [
            "total words:5:\n"
          ]
        }
      ]
    },
    {
      "cell_type": "markdown",
      "source": [
        "#Appending to a file"
      ],
      "metadata": {
        "id": "ZXNO4HpUM9Ps"
      }
    },
    {
      "cell_type": "code",
      "source": [
        "try:\n",
        "  text = input(\"Enter a lines of text:\")\n",
        "  with open(\"notes.txt\",\"a\") as file:\n",
        "    file.write(text + \"\\n\")\n",
        "except Exception as e:\n",
        "  print(f\" An error occured while appending to this file:{e}\")\n"
      ],
      "metadata": {
        "colab": {
          "base_uri": "https://localhost:8080/"
        },
        "id": "HxtoTJsaM_al",
        "outputId": "195edb6d-2d13-4d5d-f222-4cc0ad13c570"
      },
      "execution_count": null,
      "outputs": [
        {
          "name": "stdout",
          "output_type": "stream",
          "text": [
            "Enter a lines of text:i am mira khadka\n"
          ]
        }
      ]
    },
    {
      "cell_type": "markdown",
      "source": [
        "#Reading number and Handling errors"
      ],
      "metadata": {
        "id": "kFHQTj-VRh0e"
      }
    },
    {
      "cell_type": "code",
      "source": [
        "try:\n",
        "    total = 0\n",
        "    with open(\"numbers.txt\", \"r\") as file:\n",
        "        for line in file:\n",
        "            try:\n",
        "                number = float(line.strip())\n",
        "                total += number\n",
        "            except ValueError:\n",
        "                print(f\"Invalid data skipped: {line.strip()}\")\n",
        "    print(f\"Total sum: {total}\")\n",
        "except FileNotFoundError:\n",
        "    print(\"The file numbers.txt was not found.\")\n"
      ],
      "metadata": {
        "colab": {
          "base_uri": "https://localhost:8080/"
        },
        "id": "YcqcyoRCRl0g",
        "outputId": "0aa78f6d-806c-48a9-c2b8-78d91e52b4b8"
      },
      "execution_count": null,
      "outputs": [
        {
          "output_type": "stream",
          "name": "stdout",
          "text": [
            "Total sum: 15.0\n"
          ]
        }
      ]
    }
  ]
}