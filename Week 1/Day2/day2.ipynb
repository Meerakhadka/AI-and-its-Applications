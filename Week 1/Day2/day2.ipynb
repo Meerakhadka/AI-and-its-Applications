{
  "nbformat": 4,
  "nbformat_minor": 0,
  "metadata": {
    "colab": {
      "provenance": []
    },
    "kernelspec": {
      "name": "python3",
      "display_name": "Python 3"
    },
    "language_info": {
      "name": "python"
    }
  },
  "cells": [
    {
      "cell_type": "markdown",
      "source": [
        "**#Section1**"
      ],
      "metadata": {
        "id": "F9OtwXJpwXkl"
      }
    },
    {
      "cell_type": "code",
      "execution_count": 1,
      "metadata": {
        "colab": {
          "base_uri": "https://localhost:8080/"
        },
        "id": "ThK_IBQDu73T",
        "outputId": "e99a32f9-5f5d-44ab-bff8-0952ed572601"
      },
      "outputs": [
        {
          "output_type": "stream",
          "name": "stdout",
          "text": [
            "this is my second class\n"
          ]
        }
      ],
      "source": [
        "print(\"this is my second class\")"
      ]
    },
    {
      "cell_type": "markdown",
      "source": [
        "#Functions in python"
      ],
      "metadata": {
        "id": "3Wc5Ik90w_vO"
      }
    },
    {
      "cell_type": "code",
      "source": [
        "def area_of_square(num):\n",
        "  return num * num\n",
        "print(\"the area of first is:\",area_of_square(6))\n",
        "#area of second square\n",
        "print(\"the area of first is:\",area_of_square(16))"
      ],
      "metadata": {
        "colab": {
          "base_uri": "https://localhost:8080/"
        },
        "id": "wEQykbOYw7UY",
        "outputId": "1568f7c7-309f-4970-e024-0d33438915ac"
      },
      "execution_count": 13,
      "outputs": [
        {
          "output_type": "stream",
          "name": "stdout",
          "text": [
            "the area of first is: 36\n",
            "the area of first is: 256\n"
          ]
        }
      ]
    },
    {
      "cell_type": "markdown",
      "source": [
        "Lists in python"
      ],
      "metadata": {
        "id": "EP7F3E8-y68T"
      }
    },
    {
      "cell_type": "code",
      "source": [
        "fruits = [\"apple\", \"banana\", \"kiwi\", \"orange\", \"strawberry\"]\n",
        "# #Accessing elements\n",
        "# print(fruits[0])# first element\n",
        "# print(fruits[4])# 5th element\n",
        "# print(fruits[-1])# last element\n",
        "\n",
        "#adding and removing elements from list\n",
        "fruits.append(\"mango\")\n",
        "print(fruits)\n",
        "\n",
        "# remove\n",
        "fruits.remove(\"kiwi\")\n",
        "print(fruits)"
      ],
      "metadata": {
        "colab": {
          "base_uri": "https://localhost:8080/"
        },
        "id": "qjrjCV1ry3C1",
        "outputId": "3a00afc1-2a61-499f-832d-37504c009f77"
      },
      "execution_count": 22,
      "outputs": [
        {
          "output_type": "stream",
          "name": "stdout",
          "text": [
            "['apple', 'banana', 'kiwi', 'orange', 'strawberry', 'mango']\n",
            "['apple', 'banana', 'orange', 'strawberry', 'mango']\n"
          ]
        }
      ]
    },
    {
      "cell_type": "markdown",
      "source": [
        "Tuples in Python"
      ],
      "metadata": {
        "id": "fwCVCugl2ZrE"
      }
    },
    {
      "cell_type": "code",
      "source": [
        "info = (\"mira\", 20, \"Student\")\n",
        "for item in info:\n",
        " print(item)"
      ],
      "metadata": {
        "colab": {
          "base_uri": "https://localhost:8080/"
        },
        "id": "RNAC_shh2cVh",
        "outputId": "3a4608ee-c38e-44ce-e8af-c6680984ec14"
      },
      "execution_count": 29,
      "outputs": [
        {
          "output_type": "stream",
          "name": "stdout",
          "text": [
            "mira\n",
            "20\n",
            "Student\n"
          ]
        }
      ]
    },
    {
      "cell_type": "markdown",
      "source": [
        "Sets in python(home-task)"
      ],
      "metadata": {
        "id": "z-n4xXLw6Jjo"
      }
    },
    {
      "cell_type": "markdown",
      "source": [
        "Dictionaries in python"
      ],
      "metadata": {
        "id": "uEpjWnil6Rff"
      }
    },
    {
      "cell_type": "code",
      "source": [
        "# #creating Dictionary\n",
        "# student = {\n",
        "#     \"name\": \"mira khadka\",\n",
        "#     \"age\": 20,\n",
        "#     \"course\": \"computer science\"\n",
        "# }\n",
        "\n",
        "# #Accessing values of a particular key in a dictionary\n",
        "# print(student[\"age\"])\n",
        "\n",
        "# #Updating values of a particular key in a dictionary\n",
        "# student[\"age\"] = 30\n",
        "# print(student[\"age\"])\n",
        "\n",
        "# #adding new key-value pair on the dictionary\n",
        "# student[\"Address\"] = \"Kathmandu\"\n",
        "# print(student)\n",
        "# print(student[\"Address\"])\n",
        "\n",
        "# #removing key-value pair on the dictionary\n",
        "# del student[\"course\"]\n",
        "# print(student)\n",
        "\n",
        "# conversion from celcius to fahernheit\n",
        "num = float(input(\"enter a number:\"))\n",
        "def celcius_to_fahernheit(num):\n",
        "  return ((num * 9/5) + 32)\n",
        "\n",
        "print(celcius_to_fahernheit(num))\n",
        "\n",
        "\n",
        "\n",
        "\n",
        "\n",
        "\n"
      ],
      "metadata": {
        "colab": {
          "base_uri": "https://localhost:8080/"
        },
        "id": "wWp9df0T6N2u",
        "outputId": "d8d596aa-27e6-4caf-daf9-e9d44f6f21b2"
      },
      "execution_count": 45,
      "outputs": [
        {
          "output_type": "stream",
          "name": "stdout",
          "text": [
            "enter a number:80\n",
            "176.0\n"
          ]
        }
      ]
    },
    {
      "cell_type": "code",
      "source": [],
      "metadata": {
        "id": "ZnwgzokFA5aS"
      },
      "execution_count": null,
      "outputs": []
    }
  ]
}