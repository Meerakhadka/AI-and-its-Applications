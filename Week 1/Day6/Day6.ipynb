{
  "nbformat": 4,
  "nbformat_minor": 0,
  "metadata": {
    "colab": {
      "provenance": []
    },
    "kernelspec": {
      "name": "python3",
      "display_name": "Python 3"
    },
    "language_info": {
      "name": "python"
    }
  },
  "cells": [
    {
      "cell_type": "markdown",
      "source": [
        "#Pandas series = 1D array with label"
      ],
      "metadata": {
        "id": "Q_YCncxhdWhw"
      }
    },
    {
      "cell_type": "code",
      "execution_count": null,
      "metadata": {
        "colab": {
          "base_uri": "https://localhost:8080/"
        },
        "id": "R54TfIubagFl",
        "outputId": "c51122dd-63f7-4a20-a326-550841079ed6"
      },
      "outputs": [
        {
          "output_type": "stream",
          "name": "stdout",
          "text": [
            "Maths        56\n",
            "Science      89\n",
            "English      35\n",
            "History      80\n",
            "Geography    91\n",
            "dtype: int64\n"
          ]
        }
      ],
      "source": [
        "import pandas as pd\n",
        "scores = pd.Series([56,89,35,80,91],index=[\"Maths\",\"Science\",\"English\",\"History\",\"Geography\"])\n",
        "print(scores)\n",
        "\n",
        "# Task 1: Create a Pandas Series with values [10, 20, 30, 40] and indices [”A”,\n",
        "# ”B”, ”C”, ”D”]. Print the Series."
      ]
    },
    {
      "cell_type": "markdown",
      "source": [
        "#Creating a pandas dataframe"
      ],
      "metadata": {
        "id": "BE4AQTgMdw_q"
      }
    },
    {
      "cell_type": "code",
      "source": [
        "#Creating a dictionary\n",
        "data = {\n",
        "    \"Name\":[\"Aarav\",\"Bikram\",\"Samir\"],\n",
        "    \"Age\":[25,26,22],\n",
        "    \"City\":[\"Delhi\",\"Kathmandu\",\"Dhaka\"],\n",
        "    \"Country\":[\"India\",\"India\",\"Bangladesh\"]\n",
        "}\n",
        "#Turning the dictionary into a DataFrame\n",
        "df = pd.DataFrame(data)\n",
        "#Printing the DataFrame\n",
        "print(df)\n",
        "\n",
        "#Printing the DataFrame without index\n",
        "print(df.to_string(index=False))\n",
        "\n",
        "# Task 2: Create a DataFrame with columns ”City” ([”Paris”, ”Tokyo”, ”Syd-\n",
        "# ney”]) and ”Population” ([2.1, 37.4, 5.3]). Print the DataFrame."
      ],
      "metadata": {
        "colab": {
          "base_uri": "https://localhost:8080/"
        },
        "id": "udoXhVKEd2mp",
        "outputId": "9b3e6f1d-dbe8-4373-d74f-76c6f581e3a6"
      },
      "execution_count": null,
      "outputs": [
        {
          "output_type": "stream",
          "name": "stdout",
          "text": [
            "     Name  Age       City     Country\n",
            "0   Aarav   25      Delhi       India\n",
            "1  Bikram   26  Kathmandu       India\n",
            "2   Samir   22      Dhaka  Bangladesh\n",
            "  Name  Age      City    Country\n",
            " Aarav   25     Delhi      India\n",
            "Bikram   26 Kathmandu      India\n",
            " Samir   22     Dhaka Bangladesh\n"
          ]
        }
      ]
    },
    {
      "cell_type": "markdown",
      "source": [
        "#Filtering data in the dataframe"
      ],
      "metadata": {
        "id": "t83ky-aQeSPu"
      }
    },
    {
      "cell_type": "code",
      "source": [
        "#Creating a dictionary\n",
        "data = {\n",
        "    \"Name\":[\"Aarav\",\"Bikram\",\"Samir\"],\n",
        "    \"Age\":[25,26,22],\n",
        "    \"City\":[\"Delhi\",\"Kathmandu\",\"Dhaka\"],\n",
        "    \"Country\":[\"India\",\"India\",\"Bangladesh\"]\n",
        "}\n",
        "#Turning the dictionary into a DataFrame\n",
        "df = pd.DataFrame(data)\n",
        "\n",
        "# #Printing the DataFrame\n",
        "# print(df)\n",
        "\n",
        "#Filtering\n",
        "filter = df[df[\"Age\"] < 26]\n",
        "print(filter)\n",
        "\n",
        "\n",
        "#Task 3: Create a DataFrame with columns ”Name” ([”Eve”, ”Frank”, ”Grace”])\n",
        "# and ”Age” ([19, 23, 20]). Filter rows where Age is greater than 20 and print the\n",
        "# result."
      ],
      "metadata": {
        "colab": {
          "base_uri": "https://localhost:8080/"
        },
        "id": "dGKGvhdbeaVj",
        "outputId": "1b28fcd5-06fe-4f73-b6d0-c98a215240f4"
      },
      "execution_count": null,
      "outputs": [
        {
          "output_type": "stream",
          "name": "stdout",
          "text": [
            "    Name  Age   City     Country\n",
            "0  Aarav   25  Delhi       India\n",
            "2  Samir   22  Dhaka  Bangladesh\n"
          ]
        }
      ]
    },
    {
      "cell_type": "markdown",
      "source": [
        "#Reading and connecting a csv file"
      ],
      "metadata": {
        "id": "V8EKzoodegLs"
      }
    },
    {
      "cell_type": "code",
      "source": [
        "import io\n",
        "\n",
        "#Creating a csv file\n",
        "csv_data = \"\"\"\n",
        "Name,Grade\n",
        "Sushil,1\n",
        "Arpan,2\n",
        "Rohit,3\n",
        "\"\"\"\n",
        "\n",
        "#Reading a CSV file\n",
        "df = pd.read_csv(io.StringIO(csv_data))\n",
        "print(df)\n",
        "\n",
        "#Calculate average grade\n",
        "average_grade = df['Grade'].mean()\n",
        "print(f\"Average Grade: {average_grade}\")\n",
        "\n",
        "# Task4: Simulate a CSV string with columns ”Product” ([”Apple”, ”Banana”,\n",
        "# ”Orange”]) and ”Price” ([1.0, 0.5, 0.75]). Read it into a DataFrame and print the\n",
        "# sum of prices using df[”Price”].sum()."
      ],
      "metadata": {
        "colab": {
          "base_uri": "https://localhost:8080/"
        },
        "id": "c6bazQraelza",
        "outputId": "a7d719c6-50c1-4b40-e99e-893ade07cb22"
      },
      "execution_count": null,
      "outputs": [
        {
          "output_type": "stream",
          "name": "stdout",
          "text": [
            "     Name  Grade\n",
            "0  Sushil      1\n",
            "1   Arpan      2\n",
            "2   Rohit      3\n",
            "Average Grade: 2.0\n"
          ]
        }
      ]
    },
    {
      "cell_type": "markdown",
      "source": [],
      "metadata": {
        "id": "d5msuSq-eq8G"
      }
    },
    {
      "cell_type": "markdown",
      "source": [
        "\n",
        "# Task 1: Create a Pandas Series with values [10, 20, 30, 40] and indices [”A”,\n",
        "# ”B”, ”C”, ”D”]. Print the Series."
      ],
      "metadata": {
        "id": "3CiHzBVwe0t_"
      }
    }
  ]
}