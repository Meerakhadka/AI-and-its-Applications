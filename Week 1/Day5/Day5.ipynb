{
  "nbformat": 4,
  "nbformat_minor": 0,
  "metadata": {
    "colab": {
      "provenance": []
    },
    "kernelspec": {
      "name": "python3",
      "display_name": "Python 3"
    },
    "language_info": {
      "name": "python"
    }
  },
  "cells": [
    {
      "cell_type": "markdown",
      "source": [
        "#Numpy basic\n",
        "\n"
      ],
      "metadata": {
        "id": "ZVNF1v8aDkj7"
      }
    },
    {
      "cell_type": "markdown",
      "source": [
        "#Creating a numpy array and its attributes"
      ],
      "metadata": {
        "id": "n84UiRgcDv5Y"
      }
    },
    {
      "cell_type": "code",
      "source": [
        "#importing numpy library\n",
        "import numpy as np\n",
        "#Creating a list named \"my_list\"\n",
        "my_list = [1,2,3,4,5]\n",
        "#creating a 1-D array from my_list\n",
        "my_arr = np.array(my_list)\n",
        "print(my_arr)\n",
        "\n",
        "\n",
        "#creating a 0-D array\n",
        "arr_0d = np.array(32)\n",
        "print(arr_0d)\n",
        "\n",
        "#Creating a 2D array\n",
        "arr_2d = np.array([[1,2,3],[4,5,6]])\n",
        "print(arr_2d)\n",
        "\n",
        "#Creating a 3D array\n",
        "arr_3d = np.array([[1,2,3],[4,5,6],[7,8,9],[2,3,4]])\n",
        "print(arr_3d)\n",
        "\n",
        "\n"
      ],
      "metadata": {
        "colab": {
          "base_uri": "https://localhost:8080/"
        },
        "id": "k9u7s1P8DiES",
        "outputId": "0316562b-dfa4-4b71-efc0-6f78fbe42ba3"
      },
      "execution_count": null,
      "outputs": [
        {
          "output_type": "stream",
          "name": "stdout",
          "text": [
            "[1 2 3 4 5]\n",
            "32\n",
            "[[1 2 3]\n",
            " [4 5 6]]\n",
            "[[1 2 3]\n",
            " [4 5 6]\n",
            " [7 8 9]\n",
            " [2 3 4]]\n"
          ]
        }
      ]
    },
    {
      "cell_type": "code",
      "source": [
        "#creating array and itd attributes\n",
        "arr = np.array([[1,2,3,4],[6,7,8,9]])\n",
        "print(arr)  #printing the array\n",
        "print(arr.shape) #printing the shape of array\n",
        "print(arr.ndim) #dimensions\n",
        "print(arr.dtype) #datatype\n",
        "print(arr.size) #size"
      ],
      "metadata": {
        "colab": {
          "base_uri": "https://localhost:8080/"
        },
        "id": "DeDKD3K7GAId",
        "outputId": "1bbabcfc-4076-4393-c46d-bbe63bc308d2"
      },
      "execution_count": null,
      "outputs": [
        {
          "output_type": "stream",
          "name": "stdout",
          "text": [
            "[[1 2 3 4]\n",
            " [6 7 8 9]]\n",
            "(2, 4)\n",
            "2\n",
            "int64\n",
            "8\n"
          ]
        }
      ]
    },
    {
      "cell_type": "markdown",
      "source": [
        "#Accessing and manipulating array elements"
      ],
      "metadata": {
        "id": "ccKiIbhHG1An"
      }
    },
    {
      "cell_type": "code",
      "source": [
        "#Accessing 1-D array elements\n",
        "my_arr = np.array([2,4,5,6])\n",
        "print(my_arr[2])"
      ],
      "metadata": {
        "colab": {
          "base_uri": "https://localhost:8080/"
        },
        "id": "n8kSn65ZG7Q4",
        "outputId": "e1d70fb4-01ee-461f-fa4e-9c98a4869c19"
      },
      "execution_count": null,
      "outputs": [
        {
          "output_type": "stream",
          "name": "stdout",
          "text": [
            "5\n"
          ]
        }
      ]
    },
    {
      "cell_type": "code",
      "source": [
        "#Accessing 2-D array elements\n",
        "my_arr = np.array([[2,4,5,6],[11,3,4,5]])\n",
        "print(my_arr[1,2])"
      ],
      "metadata": {
        "colab": {
          "base_uri": "https://localhost:8080/"
        },
        "id": "ib9VWLdcHNdD",
        "outputId": "dd64ccd4-bb8b-4df0-d622-c5b0d25f5c4c"
      },
      "execution_count": null,
      "outputs": [
        {
          "output_type": "stream",
          "name": "stdout",
          "text": [
            "4\n"
          ]
        }
      ]
    },
    {
      "cell_type": "code",
      "source": [
        "#Accessing 3-D array elements\n",
        "my_arr = np.array([[[2,4,5,6],[1,3,4,5]],[[3,4,6,7],[2,3,4,4]]])\n",
        "print(my_arr[0,1,2])"
      ],
      "metadata": {
        "colab": {
          "base_uri": "https://localhost:8080/"
        },
        "id": "EtzzLMTnHWwo",
        "outputId": "cbf90956-e83d-4252-9044-858c0e4cb1d5"
      },
      "execution_count": null,
      "outputs": [
        {
          "output_type": "stream",
          "name": "stdout",
          "text": [
            "4\n"
          ]
        }
      ]
    },
    {
      "cell_type": "markdown",
      "source": [
        "#Negative Indexing"
      ],
      "metadata": {
        "id": "b3igmsDlILt-"
      }
    },
    {
      "cell_type": "code",
      "source": [
        "#Accessing 2-D array elements with negative indexing\n",
        "my_arr = np.array([[2,4,5,6],[11,3,4,5]])\n",
        "print(my_arr[1,-2])"
      ],
      "metadata": {
        "colab": {
          "base_uri": "https://localhost:8080/"
        },
        "id": "-suPWM4yIOZ_",
        "outputId": "041f5200-af71-4fc8-8ed0-dc401ea632be"
      },
      "execution_count": null,
      "outputs": [
        {
          "output_type": "stream",
          "name": "stdout",
          "text": [
            "4\n"
          ]
        }
      ]
    },
    {
      "cell_type": "markdown",
      "source": [
        "#Slicing Arrays\n",
        "####array[start:end]\n",
        "####array[start:end:step]"
      ],
      "metadata": {
        "id": "TSlhNvdJIrlD"
      }
    },
    {
      "cell_type": "code",
      "source": [
        "#Slicing 1-D numpy array\n",
        "arr = np.array([1,2,3,6,5,7,8,4,3,20,33,22])\n",
        "print(arr[1:5])  #Slicing\n",
        "print(arr[1:5:2])  # slicing with step\n",
        "print(arr[0:-1])   # Negative"
      ],
      "metadata": {
        "colab": {
          "base_uri": "https://localhost:8080/"
        },
        "id": "K7_Knj_fItZt",
        "outputId": "cbd2c511-64ca-4d6c-9396-b57cb80d7916"
      },
      "execution_count": null,
      "outputs": [
        {
          "output_type": "stream",
          "name": "stdout",
          "text": [
            "[2 3 6 5]\n",
            "[2 6]\n",
            "[ 1  2  3  6  5  7  8  4  3 20 33]\n"
          ]
        }
      ]
    },
    {
      "cell_type": "code",
      "source": [
        "#slicing 2-D numpy array\n",
        "arr = np.array([[1,3,5,7],[2,4,6,8]])\n",
        "print(arr[1,1:-1])\n",
        "\n",
        "\n",
        "#Homework: experiment with slicing on 3-D array\n"
      ],
      "metadata": {
        "id": "bBlQxskLJ5vs"
      },
      "execution_count": null,
      "outputs": []
    },
    {
      "cell_type": "markdown",
      "source": [
        "#Classwork"
      ],
      "metadata": {
        "id": "e50ApiRlKgkF"
      }
    },
    {
      "cell_type": "code",
      "source": [
        "#Creating a numpy array\n",
        "arr = np.array([7,14,21,28])\n",
        "print(arr)"
      ],
      "metadata": {
        "colab": {
          "base_uri": "https://localhost:8080/"
        },
        "id": "0qJGbuxoKh1v",
        "outputId": "4740b27f-918c-4cab-8513-97ac1698032d"
      },
      "execution_count": null,
      "outputs": [
        {
          "output_type": "stream",
          "name": "stdout",
          "text": [
            "[ 7 14 21 28]\n"
          ]
        }
      ]
    },
    {
      "cell_type": "code",
      "source": [
        "#Creating a 2-D numpy array\n",
        "arr = np.array([[5,10,15],[20,25,30]])\n",
        "print(arr.shape)\n",
        "print(arr.ndim)"
      ],
      "metadata": {
        "colab": {
          "base_uri": "https://localhost:8080/"
        },
        "id": "VKimEUm-KyJZ",
        "outputId": "86508f85-032e-4376-cb4e-054e70c76b99"
      },
      "execution_count": null,
      "outputs": [
        {
          "output_type": "stream",
          "name": "stdout",
          "text": [
            "(2, 3)\n",
            "2\n"
          ]
        }
      ]
    },
    {
      "cell_type": "code",
      "source": [
        "#\n",
        "zeros_array = np.zeros((2,3))\n",
        "arange_array = np.arange(0,13,3)\n",
        "print(zeros_array)\n",
        "print(arange_array)"
      ],
      "metadata": {
        "colab": {
          "base_uri": "https://localhost:8080/"
        },
        "id": "beGjHFQgNelx",
        "outputId": "fe150d14-e395-4948-ee70-030774bee819"
      },
      "execution_count": null,
      "outputs": [
        {
          "output_type": "stream",
          "name": "stdout",
          "text": [
            "[[0. 0. 0.]\n",
            " [0. 0. 0.]]\n",
            "[ 0  3  6  9 12]\n"
          ]
        }
      ]
    },
    {
      "cell_type": "code",
      "source": [
        "#create a numpy array and multiply by 3\n",
        "arr = np.array([2,4,6,8])\n",
        "result = arr*3\n",
        "print(\"result after multiplying by 3:\", result)"
      ],
      "metadata": {
        "colab": {
          "base_uri": "https://localhost:8080/"
        },
        "id": "OkRoBqkJLdr3",
        "outputId": "aeb76c6d-b010-4763-e8d0-bfedf7dbd3f4"
      },
      "execution_count": null,
      "outputs": [
        {
          "output_type": "stream",
          "name": "stdout",
          "text": [
            "result after multiplying by 3: [ 6 12 18 24]\n"
          ]
        }
      ]
    },
    {
      "cell_type": "code",
      "source": [
        "#create a numpy array and slice from index\n",
        "arr = np.array([1,3,5,7,9,11])\n",
        "print(arr[2])\n",
        "print(arr[1:4])"
      ],
      "metadata": {
        "colab": {
          "base_uri": "https://localhost:8080/"
        },
        "id": "vnuIEsQ1N3oy",
        "outputId": "544f6b3c-de78-400c-c511-06c03b062bef"
      },
      "execution_count": null,
      "outputs": [
        {
          "output_type": "stream",
          "name": "stdout",
          "text": [
            "5\n",
            "[3 5 7]\n"
          ]
        }
      ]
    },
    {
      "cell_type": "markdown",
      "source": [
        "#Classwork2"
      ],
      "metadata": {
        "id": "-VAlnfngdRsk"
      }
    },
    {
      "cell_type": "code",
      "source": [
        "#ques1\n",
        "arr = np.random.randint(1,11, (3,3))\n",
        "print(arr)\n",
        "arr[arr > 5] = 0\n",
        "print(arr)\n",
        "\n"
      ],
      "metadata": {
        "colab": {
          "base_uri": "https://localhost:8080/"
        },
        "id": "BCBh5svVdRP5",
        "outputId": "6d51d6b6-b6de-496e-c906-7c6e8d98ec87"
      },
      "execution_count": null,
      "outputs": [
        {
          "output_type": "stream",
          "name": "stdout",
          "text": [
            "[[ 1  7  6]\n",
            " [ 6 10  6]\n",
            " [ 6  4  9]]\n",
            "[[1 0 0]\n",
            " [0 0 0]\n",
            " [0 4 0]]\n"
          ]
        }
      ]
    },
    {
      "cell_type": "code",
      "source": [
        "#ques2\n",
        "a = np.array([2,4,6,8])\n",
        "b = np.array([1,3,5,7])\n",
        "print(\"element-wise sum:\", a+b)\n",
        "print(\"dot product:\", np.dot(a,b))"
      ],
      "metadata": {
        "colab": {
          "base_uri": "https://localhost:8080/"
        },
        "id": "Ff8mEigyfZyv",
        "outputId": "f6a55fd5-c313-4de9-e5e8-bc92ba9fa304"
      },
      "execution_count": null,
      "outputs": [
        {
          "output_type": "stream",
          "name": "stdout",
          "text": [
            "element-wise sum: [ 3  7 11 15]\n",
            "dot product: 100\n"
          ]
        }
      ]
    },
    {
      "cell_type": "code",
      "source": [
        "#ques3\n",
        "arr = np.ones((4, 3))\n",
        "addition = np.array([10, 20, 30])\n",
        "result = arr + addition\n",
        "print(\"Broadcasted addition result:\\n\", result)\n"
      ],
      "metadata": {
        "id": "h0QX1yDagcz0",
        "colab": {
          "base_uri": "https://localhost:8080/"
        },
        "outputId": "c44fd290-9f2d-42fa-e909-90610696634a"
      },
      "execution_count": null,
      "outputs": [
        {
          "output_type": "stream",
          "name": "stdout",
          "text": [
            "Broadcasted addition result:\n",
            " [[11. 21. 31.]\n",
            " [11. 21. 31.]\n",
            " [11. 21. 31.]\n",
            " [11. 21. 31.]]\n"
          ]
        }
      ]
    },
    {
      "cell_type": "code",
      "source": [
        "#ques4\n",
        "import numpy as np\n",
        "arr = np.array([[1, 2, 3], [4, 5, 6], [7, 8, 9]])\n",
        "second_col = arr[:, 1]\n",
        "mean_val = np.mean(second_col)\n",
        "reshaped_arr = arr.reshape(-1)\n",
        "print(\"Mean of second column:\", mean_val)\n",
        "print(\"Reshaped array:\", reshaped_arr)"
      ],
      "metadata": {
        "colab": {
          "base_uri": "https://localhost:8080/"
        },
        "id": "H5Cbg4A8koWo",
        "outputId": "47d33e1b-fba0-489f-ebd8-c652607f5c59"
      },
      "execution_count": null,
      "outputs": [
        {
          "output_type": "stream",
          "name": "stdout",
          "text": [
            "Mean of second column: 5.0\n",
            "Reshaped array: [1 2 3 4 5 6 7 8 9]\n"
          ]
        }
      ]
    },
    {
      "cell_type": "code",
      "source": [
        "#ques5\n",
        "arr = np.array([10, 20, 30, 40, 50, 60])\n",
        "mask = arr > 30\n",
        "squared = arr[mask] ** 2\n",
        "print(\"Original array:\", arr)\n",
        "print(\"Squared elements > 30:\", squared)"
      ],
      "metadata": {
        "colab": {
          "base_uri": "https://localhost:8080/"
        },
        "id": "mi7Ks7rOlbyu",
        "outputId": "5b3c6f8a-2633-4ead-b0b3-0712ec6c6cf5"
      },
      "execution_count": null,
      "outputs": [
        {
          "output_type": "stream",
          "name": "stdout",
          "text": [
            "Original array: [10 20 30 40 50 60]\n",
            "Squared elements > 30: [1600 2500 3600]\n"
          ]
        }
      ]
    }
  ]
}