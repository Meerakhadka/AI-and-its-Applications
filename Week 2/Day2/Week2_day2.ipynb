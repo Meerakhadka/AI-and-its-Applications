{
  "nbformat": 4,
  "nbformat_minor": 0,
  "metadata": {
    "colab": {
      "provenance": []
    },
    "kernelspec": {
      "name": "python3",
      "display_name": "Python 3"
    },
    "language_info": {
      "name": "python"
    }
  },
  "cells": [
    {
      "cell_type": "markdown",
      "source": [
        "#Linear algebra in AI"
      ],
      "metadata": {
        "id": "pGZql6xZ-4Zk"
      }
    },
    {
      "cell_type": "code",
      "execution_count": null,
      "metadata": {
        "colab": {
          "base_uri": "https://localhost:8080/"
        },
        "id": "2A10cwJh-yLO",
        "outputId": "d783565a-a374-4a73-cbb4-344b5b1317c4"
      },
      "outputs": [
        {
          "output_type": "stream",
          "name": "stdout",
          "text": [
            "9\n",
            "[1 2 3]\n",
            "[ 9 18 27]\n"
          ]
        }
      ],
      "source": [
        "import numpy as np\n",
        "#creating a scaler\n",
        "scaler = 9\n",
        "print(scaler)\n",
        "\n",
        "#creating a vetcors\n",
        "vector = np.array([1,2,3])\n",
        "print(vector)\n",
        "\n",
        "#scaling a vector with a scaler aka. scaled vector\n",
        "scaled_vector = scaler * vector\n",
        "print(scaled_vector)\n",
        "\n",
        "#creating a matrix\n",
        "matrix = np.array([[1,2],[3,4]])\n",
        "print(matrix)\n"
      ]
    },
    {
      "cell_type": "markdown",
      "source": [
        "#Vector addition and subtraction"
      ],
      "metadata": {
        "id": "hY2J3A53A0e0"
      }
    },
    {
      "cell_type": "code",
      "source": [
        "#vector addition\n",
        "vector1 = np.array([1,2,3])\n",
        "vector2 = np.array([4,5,6])\n",
        "vector_sum = vector1 + vector2\n",
        "print(vector_sum)\n",
        "\n",
        "#vector subtraction\n",
        "vector1 = np.array([1,2,3])\n",
        "vector2 = np.array([4,5,6])\n",
        "vector_sub = vector1 - vector2\n",
        "print(vector_sub)\n"
      ],
      "metadata": {
        "colab": {
          "base_uri": "https://localhost:8080/"
        },
        "id": "MDAsLsjfA3gt",
        "outputId": "05b9b45f-430d-4c11-ba0a-25da29bca29a"
      },
      "execution_count": null,
      "outputs": [
        {
          "output_type": "stream",
          "name": "stdout",
          "text": [
            "[5 7 9]\n",
            "[-3 -3 -3]\n"
          ]
        }
      ]
    },
    {
      "cell_type": "markdown",
      "source": [
        "#matrix creation and simple operation"
      ],
      "metadata": {
        "id": "SBXdf9RrBZGk"
      }
    },
    {
      "cell_type": "code",
      "source": [
        "#matrix creation\n",
        "matrix1 = np.array([[1,2],[3,4]])\n",
        "matrix2 = np.array([[5,6],[7,8]])\n",
        "\n",
        "print(matrix1)\n",
        "print(matrix2)\n",
        "\n",
        "#matrix addition\n",
        "matrix_sum = matrix1 + matrix2\n",
        "print(matrix_sum)\n",
        "\n",
        "#matrix subtraction\n",
        "matrix_sub = matrix1 - matrix2\n",
        "print(matrix_sub)"
      ],
      "metadata": {
        "colab": {
          "base_uri": "https://localhost:8080/"
        },
        "id": "SSoW6cZbBe-b",
        "outputId": "9984ad96-fcde-412f-dc70-4e4da12bed7d"
      },
      "execution_count": null,
      "outputs": [
        {
          "output_type": "stream",
          "name": "stdout",
          "text": [
            "[[1 2]\n",
            " [3 4]]\n",
            "[[5 6]\n",
            " [7 8]]\n",
            "[[ 6  8]\n",
            " [10 12]]\n",
            "[[-4 -4]\n",
            " [-4 -4]]\n"
          ]
        }
      ]
    },
    {
      "cell_type": "markdown",
      "source": [
        "#Matrix multiplication"
      ],
      "metadata": {
        "id": "AAXKuY51CsI6"
      }
    },
    {
      "cell_type": "code",
      "source": [
        "#Matrix multiplication\n",
        "matrix1 = np.array([[2,4],[5,7]])\n",
        "matrix2 = np.array([[6,8],[9,11]])\n",
        "matrix_mul = np.dot(matrix1,matrix2)\n",
        "print(matrix_mul)"
      ],
      "metadata": {
        "colab": {
          "base_uri": "https://localhost:8080/"
        },
        "id": "z9dhDCfFCw3h",
        "outputId": "bccbaf2a-c4fc-4028-ac3a-cbb7717914ec"
      },
      "execution_count": null,
      "outputs": [
        {
          "output_type": "stream",
          "name": "stdout",
          "text": [
            "[[ 48  60]\n",
            " [ 93 117]]\n"
          ]
        }
      ]
    },
    {
      "cell_type": "code",
      "source": [
        "#3*3 matrix multiplication\n",
        "matrix1 = np.array([[1,2,3],[4,5,6],[7,8,9]])\n",
        "matrix2 = np.array([[2,4,6],[1,3,5],[2,7,8]])\n",
        "matrix_mul = np.dot(matrix1,matrix2)\n",
        "print(matrix_mul)"
      ],
      "metadata": {
        "colab": {
          "base_uri": "https://localhost:8080/"
        },
        "id": "Mz0ljwKmHbiH",
        "outputId": "e8547369-a7a1-409b-fe14-2775db679fdd"
      },
      "execution_count": null,
      "outputs": [
        {
          "output_type": "stream",
          "name": "stdout",
          "text": [
            "[[ 10  31  40]\n",
            " [ 25  73  97]\n",
            " [ 40 115 154]]\n"
          ]
        }
      ]
    },
    {
      "cell_type": "markdown",
      "source": [
        "#matrix multiplication from scratch"
      ],
      "metadata": {
        "id": "K7D8jloUI9BF"
      }
    },
    {
      "cell_type": "code",
      "source": [
        "#matrix multiplication\n",
        "matrix1 = np.array([[1,2],[3,4]])\n",
        "matrix2 = np.array([[5,6],[7,8]])\n",
        "\n",
        "matrix_mul[0][0] = matrix1[0,0] * matrix2[0,0] + matrix1[0,1] * matrix2[1,0]\n",
        "matrix_mul[0][1] = matrix1[0,0] * matrix2[0,1] + matrix1[0,1] * matrix2[1,1]\n",
        "matrix_mul[1][0] = matrix1[1,0] * matrix2[0,0] + matrix1[1,1] * matrix2[1,0]\n",
        "matrix_mul[1][1] = matrix1[1,0] * matrix2[0,1] + matrix1[1,1] * matrix2[1,1]\n",
        "print(matrix_mul)\n",
        "\n",
        "\n",
        "# A more simplified approach!!!!!!!!!!!\n",
        "\n",
        "a, b = matrix1[0]\n",
        "c, d = matrix1[1]\n",
        "e, f = matrix2[0]\n",
        "g, h = matrix2[1]\n",
        "\n",
        "mat_mul_index1 = a * e + b * g\n",
        "mat_mul_index2 = a * f + b * h\n",
        "mat_mul_index3 = c * e + d * g\n",
        "mat_mul_index4 = c * f + d * h\n",
        "\n",
        "print(mat_mul_index1, mat_mul_index2)\n",
        "print(mat_mul_index3, mat_mul_index4)"
      ],
      "metadata": {
        "colab": {
          "base_uri": "https://localhost:8080/"
        },
        "id": "oZXJ6glbJ_VP",
        "outputId": "3c6f0e71-3185-4db2-8f2e-8e5be8a4814d"
      },
      "execution_count": null,
      "outputs": [
        {
          "output_type": "stream",
          "name": "stdout",
          "text": [
            "[[19. 22.]\n",
            " [43. 50.]]\n"
          ]
        }
      ]
    },
    {
      "cell_type": "markdown",
      "source": [
        "#identity matrix and transpose"
      ],
      "metadata": {
        "id": "tbLYm6IlNLsL"
      }
    },
    {
      "cell_type": "code",
      "source": [
        "#identity matrix\n",
        "identity = np.eye(2,dtype=int)\n",
        "print(identity)\n",
        "\n",
        "#transpose matrix\n",
        "matrix1 = np.array([[2,4],[5,7]])\n",
        "print(matrix1.T)\n",
        "\n",
        "# matrix_transpose = np.transpose(matrix1)\n",
        "# print(matrix_transpose)"
      ],
      "metadata": {
        "colab": {
          "base_uri": "https://localhost:8080/"
        },
        "id": "2nXM2yZTNXdx",
        "outputId": "60d243e4-6c6d-4d1f-f4ca-f86e687d4b8c"
      },
      "execution_count": null,
      "outputs": [
        {
          "output_type": "stream",
          "name": "stdout",
          "text": [
            "[[1 0]\n",
            " [0 1]]\n",
            "[[2 5]\n",
            " [4 7]]\n"
          ]
        }
      ]
    },
    {
      "cell_type": "markdown",
      "source": [
        "#Matrix Inverse"
      ],
      "metadata": {
        "id": "E7A_WMQTP5ox"
      }
    },
    {
      "cell_type": "code",
      "source": [
        "#matrix inverse\n",
        "matrix1 = np.array([[2,4],[5,7]])\n",
        "inverse = np.linalg.inv(matrix1)\n",
        "\n",
        "identity = np.dot(matrix1, inverse)\n",
        "print(identity)"
      ],
      "metadata": {
        "colab": {
          "base_uri": "https://localhost:8080/"
        },
        "id": "1xB71Fz1QJOz",
        "outputId": "79504436-fef2-44b0-a2ba-f85294d96fac"
      },
      "execution_count": null,
      "outputs": [
        {
          "output_type": "stream",
          "name": "stdout",
          "text": [
            "[[1.0000000e+00 0.0000000e+00]\n",
            " [4.4408921e-16 1.0000000e+00]]\n"
          ]
        }
      ]
    },
    {
      "cell_type": "markdown",
      "source": [
        "#Homework"
      ],
      "metadata": {
        "id": "PHS7hJqfvZQ2"
      }
    },
    {
      "cell_type": "code",
      "source": [
        "# Task 1: Create a vector [4, 5, 6] and multiply it by a scalar of 3. Print the result.\n",
        "import numpy as np\n",
        "vector = np.array([4,5,6])\n",
        "scalar = 3\n",
        "result = vector * scalar\n",
        "print(result)"
      ],
      "metadata": {
        "colab": {
          "base_uri": "https://localhost:8080/"
        },
        "id": "BM-SeulnvX4t",
        "outputId": "795059c0-ed4b-42a3-861e-9839c7b5247c"
      },
      "execution_count": null,
      "outputs": [
        {
          "output_type": "stream",
          "name": "stdout",
          "text": [
            "[12 15 18]\n"
          ]
        }
      ]
    },
    {
      "cell_type": "code",
      "source": [
        "# Task 2: Create two vectors [10, 20] and [5, 15]. Compute and print their sum\n",
        "# and difference.\n",
        "import numpy as np\n",
        "vector1 = np.array([10,20])\n",
        "vector2 = np.array([5,15])\n",
        "vector_sum = vector1 + vector2\n",
        "print(vector_sum)\n",
        "vector_sub = vector1 - vector2\n",
        "print(vector_sub)"
      ],
      "metadata": {
        "colab": {
          "base_uri": "https://localhost:8080/"
        },
        "id": "GzdTW3E2vsUJ",
        "outputId": "2d939140-9a6e-4d50-bd3b-ab1e6e6090d5"
      },
      "execution_count": null,
      "outputs": [
        {
          "output_type": "stream",
          "name": "stdout",
          "text": [
            "[15 35]\n",
            "[5 5]\n"
          ]
        }
      ]
    },
    {
      "cell_type": "code",
      "source": [
        "#Task 3: Create two 2x2 matrices [[2, 3], [4, 5]] and [[1, 1], [2, 2]]. Compute and\n",
        "# print their sum.\n",
        "import numpy as np\n",
        "matrix1 = np.array([[2,3],[4,5]])\n",
        "matrix2 = np.array([[1,1],[2,2]])\n",
        "matrix_sum = matrix1 + matrix2\n",
        "print(matrix_sum)\n"
      ],
      "metadata": {
        "colab": {
          "base_uri": "https://localhost:8080/"
        },
        "id": "cjcqX6YowGJM",
        "outputId": "b0dbb997-e671-43ef-e95b-f11f1ae2566a"
      },
      "execution_count": null,
      "outputs": [
        {
          "output_type": "stream",
          "name": "stdout",
          "text": [
            "[[3 4]\n",
            " [6 7]]\n"
          ]
        }
      ]
    },
    {
      "cell_type": "code",
      "source": [
        "# Task 4: Create two 2x2 matrices [[1, 0], [0, 1]] and [[2, 3], [4, 5]]. Compute and\n",
        "# print their product.\n",
        "import numpy as np\n",
        "matrix1 = np.array([[1,0],[0,1]])\n",
        "matrix2 = np.array([[2,3],[4,5]])\n",
        "matrix_mul = np.dot(matrix1,matrix2)\n",
        "print(matrix_mul)"
      ],
      "metadata": {
        "colab": {
          "base_uri": "https://localhost:8080/"
        },
        "id": "CieogdvzwQ70",
        "outputId": "4a23bc94-de8d-4d62-fc81-7cf30831c355"
      },
      "execution_count": null,
      "outputs": [
        {
          "output_type": "stream",
          "name": "stdout",
          "text": [
            "[[2 3]\n",
            " [4 5]]\n"
          ]
        }
      ]
    },
    {
      "cell_type": "code",
      "source": [
        "# Task 5: Create a 2x3 matrix [[10, 20, 30], [40, 50, 60]]. Compute and print its\n",
        "# transpose. Also, create and print a 2x2 identity matrix.\n",
        "import numpy as np\n",
        "matrix1 = np.array([[10,20,30],[40,50,60]])\n",
        "matrix_transpose = np.transpose(matrix1)\n",
        "print(matrix_transpose)\n",
        "identity = np.eye(2,dtype=int)\n",
        "print(identity)"
      ],
      "metadata": {
        "colab": {
          "base_uri": "https://localhost:8080/"
        },
        "id": "kfwILGumwjmm",
        "outputId": "5203ed7f-563c-405f-cead-397dfee487e2"
      },
      "execution_count": null,
      "outputs": [
        {
          "output_type": "stream",
          "name": "stdout",
          "text": [
            "[[10 40]\n",
            " [20 50]\n",
            " [30 60]]\n",
            "[[1 0]\n",
            " [0 1]]\n"
          ]
        }
      ]
    }
  ]
}