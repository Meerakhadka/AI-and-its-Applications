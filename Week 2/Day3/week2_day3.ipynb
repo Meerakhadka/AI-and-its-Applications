{
  "nbformat": 4,
  "nbformat_minor": 0,
  "metadata": {
    "colab": {
      "provenance": []
    },
    "kernelspec": {
      "name": "python3",
      "display_name": "Python 3"
    },
    "language_info": {
      "name": "python"
    }
  },
  "cells": [
    {
      "cell_type": "markdown",
      "source": [
        "#Probability for AI"
      ],
      "metadata": {
        "id": "MMUJW_8VIXaD"
      }
    },
    {
      "cell_type": "markdown",
      "source": [
        "#Exercise1: Theoratical Probability\n"
      ],
      "metadata": {
        "id": "pfh2-_fZI5ff"
      }
    },
    {
      "cell_type": "code",
      "execution_count": null,
      "metadata": {
        "colab": {
          "base_uri": "https://localhost:8080/"
        },
        "id": "DGxc1Ci1IIjT",
        "outputId": "5e130b16-7b81-4051-9a3d-18603a121d87"
      },
      "outputs": [
        {
          "output_type": "stream",
          "name": "stdout",
          "text": [
            "0.16666666666666666\n"
          ]
        }
      ],
      "source": [
        "#Theoratical Probability\n",
        "#declaring the total outcome for rolling 1 on a die\n",
        "favourable_outcome = 1\n",
        "total_outcome = 6\n",
        "probability = favourable_outcome/total_outcome\n",
        "print(probability)\n"
      ]
    },
    {
      "cell_type": "markdown",
      "source": [
        "#Exercise2: Experimental Probability"
      ],
      "metadata": {
        "id": "uqFOtAIlKD3m"
      }
    },
    {
      "cell_type": "code",
      "source": [
        "#experimental probability\n",
        "import random\n",
        "trials = 100\n",
        "heads = 0\n",
        "for _ in range(trials):\n",
        "  if random.choice([\"Heads\", \"Tails\"]) == \"Heads\":\n",
        "    heads += 1\n",
        "    probability = heads/trials\n",
        "print(probability)\n",
        "\n"
      ],
      "metadata": {
        "colab": {
          "base_uri": "https://localhost:8080/"
        },
        "id": "rwCS2sS1KUpu",
        "outputId": "cbd9d28d-df62-4795-d0cb-47c78d446ccd"
      },
      "execution_count": null,
      "outputs": [
        {
          "output_type": "stream",
          "name": "stdout",
          "text": [
            "0.44\n"
          ]
        }
      ]
    },
    {
      "cell_type": "markdown",
      "source": [
        "#Conditional probability"
      ],
      "metadata": {
        "id": "MHGLQdnpNTYE"
      }
    },
    {
      "cell_type": "code",
      "source": [
        "#conditional probability\n",
        "#probability of getting a king such that it is a face cards\n",
        "\n",
        "total_cards = 52\n",
        "total_face_cards = 12\n",
        "total_kings = 4\n",
        "probability = (total_kings/total_face_cards)\n",
        "print(probability)\n"
      ],
      "metadata": {
        "colab": {
          "base_uri": "https://localhost:8080/"
        },
        "id": "3gxKiv9LNaiT",
        "outputId": "3ed68ffc-1e88-4866-e569-a72aed79091e"
      },
      "execution_count": null,
      "outputs": [
        {
          "output_type": "stream",
          "name": "stdout",
          "text": [
            "0.3333333333333333\n"
          ]
        }
      ]
    },
    {
      "cell_type": "markdown",
      "source": [
        "#Classwork\n"
      ],
      "metadata": {
        "id": "DXwS5wOPPVk5"
      }
    },
    {
      "cell_type": "code",
      "source": [
        "#Out of 100 days, it rained on 30 days.\n",
        "# On 25 of those rainy days, a person carried an umbrella.\n",
        "# What is the probability that they carried an umbrella given that it was raining?\n",
        "\n",
        "favourable_outcome = 25\n",
        "total_outcome = 30\n",
        "probability = favourable_outcome/total_outcome\n",
        "print(probability)"
      ],
      "metadata": {
        "colab": {
          "base_uri": "https://localhost:8080/"
        },
        "id": "tyvKfJD6PdQZ",
        "outputId": "02ec694b-0bdc-4f02-ea59-a723ddae5877"
      },
      "execution_count": null,
      "outputs": [
        {
          "output_type": "stream",
          "name": "stdout",
          "text": [
            "0.8333333333333334\n"
          ]
        }
      ]
    },
    {
      "cell_type": "code",
      "source": [
        "#Out of 80 students, 50 studied for the exam.\n",
        "# Out of those 50, 45 passed.\n",
        "# What is the probability a student passed given that they studied?\n",
        "\n",
        "favourable_outcome = 45\n",
        "total_outcome = 50\n",
        "probability = favourable_outcome/total_outcome\n",
        "print(probability)"
      ],
      "metadata": {
        "colab": {
          "base_uri": "https://localhost:8080/"
        },
        "id": "RX4IKyRzQN5t",
        "outputId": "45dfa23e-3007-4403-8dbf-1f5b25d62624"
      },
      "execution_count": null,
      "outputs": [
        {
          "output_type": "stream",
          "name": "stdout",
          "text": [
            "0.9\n"
          ]
        }
      ]
    },
    {
      "cell_type": "markdown",
      "source": [
        "#Addition Rule"
      ],
      "metadata": {
        "id": "tPH_uEQHRdKi"
      }
    },
    {
      "cell_type": "code",
      "source": [
        "#mutually exclusive events\n",
        "prob_even = 3/6\n",
        "prob_one = 1/6\n",
        "prob_even_or_one = prob_even + prob_one\n",
        "print(prob_even_or_one)"
      ],
      "metadata": {
        "colab": {
          "base_uri": "https://localhost:8080/"
        },
        "id": "yZq7CwaMRrHS",
        "outputId": "531fded4-848e-4e1a-ce04-41843957dcaa"
      },
      "execution_count": null,
      "outputs": [
        {
          "output_type": "stream",
          "name": "stdout",
          "text": [
            "0.6666666666666666\n"
          ]
        }
      ]
    },
    {
      "cell_type": "markdown",
      "source": [
        "#Multiplication Rule(independent rule)\n"
      ],
      "metadata": {
        "id": "XO3juLCdTbYY"
      }
    },
    {
      "cell_type": "code",
      "source": [
        "#Multiplication Rule\n",
        "prob_head = 0.5\n",
        "prob_two_heads = prob_head * prob_head\n",
        "print(prob_two_heads)"
      ],
      "metadata": {
        "colab": {
          "base_uri": "https://localhost:8080/"
        },
        "id": "s4_W0kARTi6W",
        "outputId": "97fa3ed1-317a-4657-9cb0-1f6fbaa9c320"
      },
      "execution_count": null,
      "outputs": [
        {
          "output_type": "stream",
          "name": "stdout",
          "text": [
            "0.25\n"
          ]
        }
      ]
    },
    {
      "cell_type": "code",
      "source": [
        "#calculate the probability of rolling a 6 twice in a row with a six-sided die.\n",
        "prob_six = 1/6\n",
        "prob_six_twice = prob_six * prob_six\n",
        "print(prob_six_twice)"
      ],
      "metadata": {
        "colab": {
          "base_uri": "https://localhost:8080/"
        },
        "id": "VqGs_UETUPcv",
        "outputId": "1f097cff-cc19-4dd3-b972-1128537facc0"
      },
      "execution_count": null,
      "outputs": [
        {
          "output_type": "stream",
          "name": "stdout",
          "text": [
            "0.027777777777777776\n"
          ]
        }
      ]
    },
    {
      "cell_type": "code",
      "source": [
        "#lets calculate the probability of drawing two aces without replacement\n",
        "total_cards = 52\n",
        "ace_cards = 4\n",
        "prob_first_ace = ace_cards/total_cards\n",
        "prob_second_ace = (ace_cards - 1)/(total_cards - 1)\n",
        "prob_two_aces = prob_first_ace * prob_second_ace\n",
        "print(prob_two_aces)\n"
      ],
      "metadata": {
        "colab": {
          "base_uri": "https://localhost:8080/"
        },
        "id": "AlJXIkxhWAoI",
        "outputId": "4ffd45ae-fe60-489a-ab55-aaf12f674d59"
      },
      "execution_count": null,
      "outputs": [
        {
          "output_type": "stream",
          "name": "stdout",
          "text": [
            "0.004524886877828055\n"
          ]
        }
      ]
    },
    {
      "cell_type": "code",
      "source": [
        "#lets calculate the probability of drawing two aces with replacement\n",
        "total_cards = 52\n",
        "ace_cards = 4\n",
        "prob_first_ace = ace_cards/total_cards\n",
        "prob_second_ace = (ace_cards)/(total_cards)\n",
        "prob_two_aces = prob_first_ace * prob_second_ace\n",
        "print(prob_two_aces)\n"
      ],
      "metadata": {
        "colab": {
          "base_uri": "https://localhost:8080/"
        },
        "id": "vhBE4JefXzWW",
        "outputId": "28ebdf5b-3036-4284-b001-0a998e5ac03f"
      },
      "execution_count": null,
      "outputs": [
        {
          "output_type": "stream",
          "name": "stdout",
          "text": [
            "0.00591715976331361\n"
          ]
        }
      ]
    },
    {
      "cell_type": "markdown",
      "source": [
        "#Homework"
      ],
      "metadata": {
        "id": "6nFqfAqwo4ap"
      }
    },
    {
      "cell_type": "code",
      "source": [
        " #Calculate the theoretical probability of drawing a red card from a\\n\",\n",
        " #tandard deck of 52 cards (26 red cards). Print the result.\"\n",
        "total_cards = 52\n",
        "red_cards = 26\n",
        "probability = red_cards/total_cards\n",
        "print(probability)\n"
      ],
      "metadata": {
        "id": "Bkiy2mdxjy10",
        "colab": {
          "base_uri": "https://localhost:8080/"
        },
        "outputId": "15f356f2-4530-4a9e-d2b1-07e99e22c74f"
      },
      "execution_count": null,
      "outputs": [
        {
          "output_type": "stream",
          "name": "stdout",
          "text": [
            "0.5\n"
          ]
        }
      ]
    },
    {
      "cell_type": "code",
      "source": [
        "# Task 6: Calculate the probability of drawing two red cards without replace-\\n\",\n",
        "#ment from a deck (26 red cards, 52 total). Print the result.\"\n",
        "total_cards = 52\n",
        "red_cards = 26\n",
        "prob_first_red = red_cards/total_cards\n",
        "prob_second_red = (red_cards - 1)/(total_cards - 1)\n",
        "prob_two_red = prob_first_red * prob_second_red\n",
        "print(prob_two_red)\n"
      ],
      "metadata": {
        "colab": {
          "base_uri": "https://localhost:8080/"
        },
        "id": "M66PlrDJpcq2",
        "outputId": "5eba6782-478f-47d0-8d55-5b968a742612"
      },
      "execution_count": null,
      "outputs": [
        {
          "output_type": "stream",
          "name": "stdout",
          "text": [
            "0.24509803921568626\n"
          ]
        }
      ]
    },
    {
      "cell_type": "code",
      "source": [
        "#Calculate the probability of rolling a 6 twice in a row with a six-sided\\n\",\n",
        "# die. Print the result.\\n\",\n",
        "#Question: What is the probability of getting head on a coin toss and 7 on a 6-sided die roll?\"\n",
        "prob_six = 1/6\n",
        "prob_six_twice = prob_six * prob_six\n",
        "print(prob_six_twice)\n",
        "\n"
      ],
      "metadata": {
        "colab": {
          "base_uri": "https://localhost:8080/"
        },
        "id": "2nBmuneBpme3",
        "outputId": "ec0f67b3-bfbf-4ab4-dcba-0436ae41ad9f"
      },
      "execution_count": null,
      "outputs": [
        {
          "output_type": "stream",
          "name": "stdout",
          "text": [
            "0.027777777777777776\n"
          ]
        }
      ]
    },
    {
      "cell_type": "code",
      "source": [
        "#Task 4: Calculate the probability of drawing a heart or a club from a deck (13\\n\",\n",
        "#hearts, 13 clubs, mutually exclusive). Print the result.\"\n",
        "total_cards = 52\n",
        "hearts = 13\n",
        "clubs = 13\n",
        "prob_heart = hearts/total_cards\n",
        "prob_club = clubs/total_cards\n",
        "prob_heart_or_club = prob_heart + prob_club\n",
        "print(prob_heart_or_club)\n"
      ],
      "metadata": {
        "colab": {
          "base_uri": "https://localhost:8080/"
        },
        "id": "LpO3Uc1Yp4oy",
        "outputId": "92514ad8-58b2-4886-a557-76f4dcbcb49e"
      },
      "execution_count": null,
      "outputs": [
        {
          "output_type": "stream",
          "name": "stdout",
          "text": [
            "0.5\n"
          ]
        }
      ]
    }
  ]
}