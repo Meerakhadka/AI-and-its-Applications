{
  "nbformat": 4,
  "nbformat_minor": 0,
  "metadata": {
    "colab": {
      "provenance": []
    },
    "kernelspec": {
      "name": "python3",
      "display_name": "Python 3"
    },
    "language_info": {
      "name": "python"
    }
  },
  "cells": [
    {
      "cell_type": "code",
      "execution_count": null,
      "metadata": {
        "colab": {
          "base_uri": "https://localhost:8080/"
        },
        "id": "m7PL4GQwzFuN",
        "outputId": "ad9bc80f-013a-44d6-b170-b139c0a5875b"
      },
      "outputs": [
        {
          "output_type": "stream",
          "name": "stdout",
          "text": [
            "Student's Name: mira\n",
            "Please enter the marks for:\n",
            "Physics: 90\n",
            "Chemistry: 89\n",
            "Maths: 89\n",
            "Computer: 78\n",
            "English: 90\n",
            "Nepali: 78\n",
            "Grade: A\n",
            "GPA: 3.43\n",
            "Do you want your name to appear on the leaderboards? (yes/no): no\n",
            "Do you want to add more student details? (yes/no): yes\n",
            "Student's Name: mrrr\n",
            "Please enter the marks for:\n",
            "Physics: 78\n",
            "Chemistry: 66\n",
            "Maths: 98\n",
            "Computer: 67\n",
            "English: 5\n",
            "Nepali: 78\n",
            "Grade: B\n",
            "GPA: 2.61\n",
            "Do you want your name to appear on the leaderboards? (yes/no): yes\n",
            "Do you want to add more student details? (yes/no): no\n",
            "\n",
            "--- Leaderboard ---\n",
            "1. mrrr - Average Marks: 65.33\n"
          ]
        }
      ],
      "source": [
        "def main():\n",
        "    want_leaderboard = {}\n",
        "\n",
        "    while True:\n",
        "        name = input(\"Student's Name: \").strip()\n",
        "        print(\"Please enter the marks for:\")\n",
        "        phy_marks = int(input(\"Physics: \").strip())\n",
        "        chem_marks = int(input(\"Chemistry: \").strip())\n",
        "        math_marks = int(input(\"Maths: \").strip())\n",
        "        comp_marks = int(input(\"Computer: \").strip())\n",
        "        eng_marks = int(input(\"English: \").strip())\n",
        "        nep_marks = int(input(\"Nepali: \").strip())\n",
        "\n",
        "        avg_marks, gpa = gradeCheck(phy_marks, chem_marks, math_marks, comp_marks, eng_marks, nep_marks)\n",
        "\n",
        "        while True:\n",
        "            try:\n",
        "                choice = input(\"Do you want your name to appear on the leaderboards? (yes/no): \").strip().lower()\n",
        "                if choice not in [\"yes\", \"no\"]:\n",
        "                    raise ValueError(choice)\n",
        "                break\n",
        "            except ValueError as v:\n",
        "                print(f\"Invalid input: {v}. Please type 'yes' or 'no'.\")\n",
        "\n",
        "        if choice == \"yes\":\n",
        "            want_leaderboard[name] = avg_marks  # Save student's avg marks\n",
        "\n",
        "        while True:\n",
        "            try:\n",
        "                more = input(\"Do you want to add more student details? (yes/no): \").strip().lower()\n",
        "                if more not in [\"yes\", \"no\"]:\n",
        "                    raise ValueError(more)\n",
        "                break\n",
        "            except ValueError as v:\n",
        "                print(f\"Invalid input: {v}. Please type 'yes' or 'no'.\")\n",
        "\n",
        "        if more == \"no\":\n",
        "            break\n",
        "\n",
        "    # DISPLAY LEADERBOARD\n",
        "    if want_leaderboard:\n",
        "        print(\"\\n--- Leaderboard ---\")\n",
        "        sorted_leaderboard = sorted(want_leaderboard.items(), key=lambda x: x[1], reverse=True)\n",
        "        for i, (student, avg) in enumerate(sorted_leaderboard, start=1):\n",
        "            print(f\"{i}. {student} - Average Marks: {avg:.2f}\")\n",
        "    else:\n",
        "        print(\"\\nNo students opted to appear on the leaderboard.\")\n",
        "\n",
        "def gradeCheck(m1, m2, m3, m4, m5, m6):\n",
        "    marks = (m1 + m2 + m3 + m4 + m5 + m6) / 6\n",
        "    gpa = marks / 25\n",
        "\n",
        "    if marks >= 90:\n",
        "        grade = \"A+\"\n",
        "    elif marks >= 80:\n",
        "        grade = \"A\"\n",
        "    elif marks >= 70:\n",
        "        grade = \"B+\"\n",
        "    elif marks >= 60:\n",
        "        grade = \"B\"\n",
        "    elif marks >= 50:\n",
        "        grade = \"C+\"\n",
        "    elif marks >= 40:\n",
        "        grade = \"C\"\n",
        "    else:\n",
        "        grade = \"Fail\"\n",
        "\n",
        "    print(f\"Grade: {grade}\")\n",
        "    print(f\"GPA: {gpa:.2f}\")\n",
        "    return marks, gpa\n",
        "\n",
        "main()"
      ]
    }
  ]
}